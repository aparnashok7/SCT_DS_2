{
  "nbformat": 4,
  "nbformat_minor": 0,
  "metadata": {
    "colab": {
      "provenance": [],
      "authorship_tag": "ABX9TyMIHzTn7LcjALgKTz8/F2eg",
      "include_colab_link": true
    },
    "kernelspec": {
      "name": "python3",
      "display_name": "Python 3"
    },
    "language_info": {
      "name": "python"
    }
  },
  "cells": [
    {
      "cell_type": "markdown",
      "metadata": {
        "id": "view-in-github",
        "colab_type": "text"
      },
      "source": [
        "<a href=\"https://colab.research.google.com/github/aparnashok7/SCT_DS_2/blob/main/SCT_DS_2.ipynb\" target=\"_parent\"><img src=\"https://colab.research.google.com/assets/colab-badge.svg\" alt=\"Open In Colab\"/></a>"
      ]
    },
    {
      "cell_type": "code",
      "execution_count": 1,
      "metadata": {
        "id": "sAUiCBzT4wum"
      },
      "outputs": [],
      "source": [
        "import pandas as pd\n",
        "import seaborn as sns\n",
        "\n",
        "# Load the Titanic dataset\n",
        "df = sns.load_dataset('titanic')"
      ]
    },
    {
      "cell_type": "code",
      "source": [
        "# Check for missing values\n",
        "missing_values = df.isnull().sum()\n",
        "print(missing_values)"
      ],
      "metadata": {
        "colab": {
          "base_uri": "https://localhost:8080/"
        },
        "id": "91XoWFaA43n3",
        "outputId": "04bf2c8a-66b7-416b-9da8-3baab8047481"
      },
      "execution_count": 2,
      "outputs": [
        {
          "output_type": "stream",
          "name": "stdout",
          "text": [
            "survived         0\n",
            "pclass           0\n",
            "sex              0\n",
            "age            177\n",
            "sibsp            0\n",
            "parch            0\n",
            "fare             0\n",
            "embarked         2\n",
            "class            0\n",
            "who              0\n",
            "adult_male       0\n",
            "deck           688\n",
            "embark_town      2\n",
            "alive            0\n",
            "alone            0\n",
            "dtype: int64\n"
          ]
        }
      ]
    },
    {
      "cell_type": "code",
      "source": [
        "# Fill missing values for 'age' with the median\n",
        "df['age'].fillna(df['age'].median(), inplace=True)\n",
        "\n",
        "# Fill missing values for 'embarked' with the mode\n",
        "df['embarked'].fillna(df['embarked'].mode()[0], inplace=True)\n",
        "\n",
        "# Drop 'deck' column if too many missing values (if it had been present)\n",
        "# df.drop(columns=['deck'], inplace=True)"
      ],
      "metadata": {
        "colab": {
          "base_uri": "https://localhost:8080/"
        },
        "id": "UI7En_0x48Pm",
        "outputId": "5c4dfbf0-d25b-4365-fcd7-94358888ce9a"
      },
      "execution_count": 3,
      "outputs": [
        {
          "output_type": "stream",
          "name": "stderr",
          "text": [
            "<ipython-input-3-c86dff83f6bb>:2: FutureWarning: A value is trying to be set on a copy of a DataFrame or Series through chained assignment using an inplace method.\n",
            "The behavior will change in pandas 3.0. This inplace method will never work because the intermediate object on which we are setting values always behaves as a copy.\n",
            "\n",
            "For example, when doing 'df[col].method(value, inplace=True)', try using 'df.method({col: value}, inplace=True)' or df[col] = df[col].method(value) instead, to perform the operation inplace on the original object.\n",
            "\n",
            "\n",
            "  df['age'].fillna(df['age'].median(), inplace=True)\n",
            "<ipython-input-3-c86dff83f6bb>:5: FutureWarning: A value is trying to be set on a copy of a DataFrame or Series through chained assignment using an inplace method.\n",
            "The behavior will change in pandas 3.0. This inplace method will never work because the intermediate object on which we are setting values always behaves as a copy.\n",
            "\n",
            "For example, when doing 'df[col].method(value, inplace=True)', try using 'df.method({col: value}, inplace=True)' or df[col] = df[col].method(value) instead, to perform the operation inplace on the original object.\n",
            "\n",
            "\n",
            "  df['embarked'].fillna(df['embarked'].mode()[0], inplace=True)\n"
          ]
        }
      ]
    },
    {
      "cell_type": "code",
      "source": [
        "# Remove duplicate entries\n",
        "df.drop_duplicates(inplace=True)"
      ],
      "metadata": {
        "id": "9MuTLXry5A85"
      },
      "execution_count": 4,
      "outputs": []
    },
    {
      "cell_type": "code",
      "source": [
        "# Convert 'survived' to categorical\n",
        "df['survived'] = df['survived'].astype('category')\n",
        "\n",
        "# Convert 'pclass' to categorical\n",
        "df['pclass'] = df['pclass'].astype('category')"
      ],
      "metadata": {
        "id": "kxPOIoFY5Die"
      },
      "execution_count": 5,
      "outputs": []
    },
    {
      "cell_type": "code",
      "source": [
        "# Display the first few rows\n",
        "print(df.head())\n",
        "\n",
        "# Check the dimensions of the dataset\n",
        "print(df.shape)\n",
        "\n",
        "# Get summary statistics\n",
        "print(df.describe())\n",
        "\n",
        "# Check data types\n",
        "print(df.dtypes)\n",
        "\n",
        "# Check for missing values again\n",
        "print(df.isnull().sum())"
      ],
      "metadata": {
        "colab": {
          "base_uri": "https://localhost:8080/"
        },
        "id": "7D3k1vWy5GeI",
        "outputId": "c6505615-0574-44a0-fd6b-3d4e9effc8e4"
      },
      "execution_count": 6,
      "outputs": [
        {
          "output_type": "stream",
          "name": "stdout",
          "text": [
            "  survived pclass     sex   age  sibsp  parch     fare embarked  class    who  \\\n",
            "0        0      3    male  22.0      1      0   7.2500        S  Third    man   \n",
            "1        1      1  female  38.0      1      0  71.2833        C  First  woman   \n",
            "2        1      3  female  26.0      0      0   7.9250        S  Third  woman   \n",
            "3        1      1  female  35.0      1      0  53.1000        S  First  woman   \n",
            "4        0      3    male  35.0      0      0   8.0500        S  Third    man   \n",
            "\n",
            "   adult_male deck  embark_town alive  alone  \n",
            "0        True  NaN  Southampton    no  False  \n",
            "1       False    C    Cherbourg   yes  False  \n",
            "2       False  NaN  Southampton   yes   True  \n",
            "3       False    C  Southampton   yes  False  \n",
            "4        True  NaN  Southampton    no   True  \n",
            "(781, 15)\n",
            "              age       sibsp       parch        fare\n",
            "count  781.000000  781.000000  781.000000  781.000000\n",
            "mean    29.622817    0.524968    0.417414   34.750464\n",
            "std     13.764671    0.987592    0.838132   52.237906\n",
            "min      0.420000    0.000000    0.000000    0.000000\n",
            "25%     22.000000    0.000000    0.000000    8.050000\n",
            "50%     28.000000    0.000000    0.000000   15.900000\n",
            "75%     36.000000    1.000000    1.000000   34.020800\n",
            "max     80.000000    8.000000    6.000000  512.329200\n",
            "survived       category\n",
            "pclass         category\n",
            "sex              object\n",
            "age             float64\n",
            "sibsp             int64\n",
            "parch             int64\n",
            "fare            float64\n",
            "embarked         object\n",
            "class          category\n",
            "who              object\n",
            "adult_male         bool\n",
            "deck           category\n",
            "embark_town      object\n",
            "alive            object\n",
            "alone              bool\n",
            "dtype: object\n",
            "survived         0\n",
            "pclass           0\n",
            "sex              0\n",
            "age              0\n",
            "sibsp            0\n",
            "parch            0\n",
            "fare             0\n",
            "embarked         0\n",
            "class            0\n",
            "who              0\n",
            "adult_male       0\n",
            "deck           579\n",
            "embark_town      2\n",
            "alive            0\n",
            "alone            0\n",
            "dtype: int64\n"
          ]
        }
      ]
    },
    {
      "cell_type": "code",
      "source": [
        "import seaborn as sns\n",
        "import matplotlib.pyplot as plt # Import matplotlib.pyplot\n",
        "\n",
        "# Load the dataset (if not already loaded)\n",
        "# df = sns.load_dataset('titanic')\n",
        "\n",
        "sns.countplot(x='survived', data=df)\n",
        "plt.title('Survival Count')\n",
        "plt.xlabel('Survival Status (0 = No, 1 = Yes)')\n",
        "plt.ylabel('Count')\n",
        "plt.show()"
      ],
      "metadata": {
        "colab": {
          "base_uri": "https://localhost:8080/",
          "height": 472
        },
        "id": "VnpH3ODR5I2r",
        "outputId": "8d032f78-0b51-44e9-c547-565dedffa08d"
      },
      "execution_count": 9,
      "outputs": [
        {
          "output_type": "display_data",
          "data": {
            "text/plain": [
              "<Figure size 640x480 with 1 Axes>"
            ],
            "image/png": "[encoded data removed]"
          },
          "metadata": {}
        }
      ]
    },
    {
      "cell_type": "code",
      "source": [
        "import matplotlib.pyplot as plt\n",
        "\n",
        "plt.hist(df['age'], bins=10, edgecolor='black')\n",
        "plt.title('Distribution of Age')\n",
        "plt.xlabel('Age')\n",
        "plt.ylabel('Frequency')\n",
        "plt.show()"
      ],
      "metadata": {
        "colab": {
          "base_uri": "https://localhost:8080/",
          "height": 472
        },
        "id": "6v5DXwaA5LtR",
        "outputId": "531f93de-e00a-41fd-9a53-6568b340d55a"
      },
      "execution_count": 10,
      "outputs": [
        {
          "output_type": "display_data",
          "data": {
            "text/plain": [
              "<Figure size 640x480 with 1 Axes>"
            ],
            "image/png": "[encoded data removed]"
          },
          "metadata": {}
        }
      ]
    },
    {
      "cell_type": "code",
      "source": [
        "sns.boxplot(x='survived', y='fare', data=df)\n",
        "plt.title('Fare Distribution by Survival Status')\n",
        "plt.xlabel('Survival Status (0 = No, 1 = Yes)')\n",
        "plt.ylabel('Fare')\n",
        "plt.show()"
      ],
      "metadata": {
        "colab": {
          "base_uri": "https://localhost:8080/",
          "height": 472
        },
        "id": "Lvj6y_uX5OiQ",
        "outputId": "9b4818ca-0a35-4dc4-b4fc-03c8584bce76"
      },
      "execution_count": 11,
      "outputs": [
        {
          "output_type": "display_data",
          "data": {
            "text/plain": [
              "<Figure size 640x480 with 1 Axes>"
            ],
            "image/png": "[encoded data removed]"
          },
          "metadata": {}
        }
      ]
    },
    {
      "cell_type": "code",
      "source": [
        "# Correlation matrix\n",
        "correlation = df[['age', 'fare', 'pclass', 'survived']].corr()\n",
        "print(correlation)"
      ],
      "metadata": {
        "colab": {
          "base_uri": "https://localhost:8080/"
        },
        "id": "m_ZNEg8u53bL",
        "outputId": "d5a0e8e1-46da-4ba0-b1be-64fd52d4cf7a"
      },
      "execution_count": 12,
      "outputs": [
        {
          "output_type": "stream",
          "name": "stdout",
          "text": [
            "               age      fare    pclass  survived\n",
            "age       1.000000  0.091575 -0.343458 -0.079430\n",
            "fare      0.091575  1.000000 -0.549622  0.246585\n",
            "pclass   -0.343458 -0.549622  1.000000 -0.330755\n",
            "survived -0.079430  0.246585 -0.330755  1.000000\n"
          ]
        }
      ]
    },
    {
      "cell_type": "code",
      "source": [
        "# Cross-tabulation of Pclass and Survival\n",
        "import pandas as pd\n",
        "import seaborn as sns\n",
        "# Load the dataset\n",
        "df = sns.load_dataset('titanic')\n",
        "# Verify the column name\n",
        "print(df.columns)\n",
        "# Cross-tabulation (after confirming column name)\n",
        "cross = pd.crosstab(df['pclass'], df['survived'])\n",
        "print(cross)"
      ],
      "metadata": {
        "colab": {
          "base_uri": "https://localhost:8080/"
        },
        "id": "GUnSFcQ456B5",
        "outputId": "0794a894-c810-4307-be8b-a8a015a326c0"
      },
      "execution_count": 17,
      "outputs": [
        {
          "output_type": "stream",
          "name": "stdout",
          "text": [
            "Index(['survived', 'pclass', 'sex', 'age', 'sibsp', 'parch', 'fare',\n",
            "       'embarked', 'class', 'who', 'adult_male', 'deck', 'embark_town',\n",
            "       'alive', 'alone'],\n",
            "      dtype='object')\n",
            "survived    0    1\n",
            "pclass            \n",
            "1          80  136\n",
            "2          97   87\n",
            "3         372  119\n"
          ]
        }
      ]
    },
    {
      "cell_type": "code",
      "source": [],
      "metadata": {
        "id": "aThJ70ad58Ww"
      },
      "execution_count": null,
      "outputs": []
    }
  ]
}